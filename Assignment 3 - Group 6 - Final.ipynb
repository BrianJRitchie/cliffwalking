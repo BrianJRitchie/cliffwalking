{
 "cells": [
  {
   "cell_type": "code",
   "execution_count": 5,
   "id": "f8ec03e8",
   "metadata": {},
   "outputs": [],
   "source": [
    "import torch\n",
    "import torch.nn as nn\n",
    "import torch.nn.functional as F\n",
    "import torch.optim as optim\n",
    "from torch.distributions import Categorical\n",
    "from tqdm import tqdm\n",
    "\n",
    "import gymnasium as gym\n",
    "import numpy as np\n",
    "from collections import deque\n",
    "\n",
    "# Initialize Cliff Walking environment\n",
    "# 4x12 grid world with a start state, goal state, and cliff states\n",
    "# Agent starts at start state(36) and must navigate to goal state (47) while avoiding cliff states (37-46)\n",
    "# Agent receives a reward of -100 for falling off the cliff and -1 for each step taken\n",
    "# Agent receives a reward of 0 for reaching the goal state and the episode ends\n",
    "# Actions: 0 - up, 1 - right, 2 - down, 3 - left\n",
    "# We have added a episode maximum of 1000 steps to prevent infinite loops\n",
    "# Aim is to reach the goal state in the fewest steps possible\n",
    "\n",
    "# Initialize environment; render_mode=\"human\" for rendering the environment is shut off for training\n",
    "env = gym.make(\"CliffWalking-v0\")#,render_mode=\"human\")"
   ]
  },
  {
   "cell_type": "code",
   "execution_count": 6,
   "id": "ad33392e",
   "metadata": {},
   "outputs": [],
   "source": [
    "# Constants\n",
    "DISCOUNT_FACTOR = 0.99\n",
    "NUM_EPISODES = 100\n",
    "MAX_STEPS = 1000\n",
    "SOLVED_SCORE = -13  \n",
    "DEVICE = \"cuda\" if torch.cuda.is_available() else \"cpu\""
   ]
  },
  {
   "cell_type": "code",
   "execution_count": 7,
   "id": "9e404725",
   "metadata": {},
   "outputs": [],
   "source": [
    "# Actor Network (Policy Network)\n",
    "class ActorPolicy(nn.Module):\n",
    "    def __init__(self, state_space, action_space):\n",
    "        super(ActorPolicy, self).__init__()\n",
    "        self.fc1 = nn.Linear(state_space, 128)\n",
    "        self.fc2 = nn.Linear(128, action_space)\n",
    "\n",
    "    def forward(self, x):\n",
    "        x = F.relu(self.fc1(x))\n",
    "        x = F.softmax(self.fc2(x), dim=-1)\n",
    "        return x\n",
    "\n",
    "# Critic Network (State Value Network)\n",
    "class CriticValue(nn.Module):\n",
    "    def __init__(self, state_space):\n",
    "        super(CriticValue, self).__init__()\n",
    "        self.fc1 = nn.Linear(state_space, 128)\n",
    "        self.fc2 = nn.Linear(128, 1)\n",
    "\n",
    "    def forward(self, x):\n",
    "        x = F.relu(self.fc1(x))\n",
    "        x = self.fc2(x)\n",
    "        return x"
   ]
  },
  {
   "cell_type": "code",
   "execution_count": 8,
   "id": "251f5b42",
   "metadata": {},
   "outputs": [],
   "source": [
    "# Correctly initialize state from environment\n",
    "state = env.reset()[0]\n",
    "\n",
    "# Initialize networks.  Will generatea network of 48x128x4 for the actor and 48x128x1 for the critic\n",
    "# 48 is the number of states in the environment; 4 is the number of states\n",
    "actor_policy = ActorPolicy(env.observation_space.n, env.action_space.n).to(DEVICE) #\n",
    "critic_value = CriticValue(env.observation_space.n).to(DEVICE)\n",
    "\n",
    "# Initialize optimizers\n",
    "# Adam optimizer is used for both the actor and critic\n",
    "# The learning rate is set to 0.001 after trial and error using values from 0.0001 to 0.1\n",
    "actor_optimizer = optim.Adam(actor_policy.parameters(), lr=0.001)\n",
    "critic_optimizer = optim.Adam(critic_value.parameters(), lr=0.001)"
   ]
  },
  {
   "cell_type": "code",
   "execution_count": 9,
   "id": "55fbb2a2",
   "metadata": {},
   "outputs": [
    {
     "name": "stderr",
     "output_type": "stream",
     "text": [
      "  1%|          | 1/100 [00:00<00:45,  2.19it/s]"
     ]
    },
    {
     "name": "stdout",
     "output_type": "stream",
     "text": [
      "Score too low\n"
     ]
    },
    {
     "name": "stderr",
     "output_type": "stream",
     "text": [
      "  2%|▏         | 2/100 [00:01<00:50,  1.94it/s]"
     ]
    },
    {
     "name": "stdout",
     "output_type": "stream",
     "text": [
      "Score too low\n"
     ]
    },
    {
     "name": "stderr",
     "output_type": "stream",
     "text": [
      "  3%|▎         | 3/100 [00:02<01:30,  1.07it/s]"
     ]
    },
    {
     "name": "stdout",
     "output_type": "stream",
     "text": [
      "Score too low\n"
     ]
    },
    {
     "name": "stderr",
     "output_type": "stream",
     "text": [
      "  4%|▍         | 4/100 [00:03<01:41,  1.06s/it]"
     ]
    },
    {
     "name": "stdout",
     "output_type": "stream",
     "text": [
      "Score too low\n"
     ]
    },
    {
     "name": "stderr",
     "output_type": "stream",
     "text": [
      "  5%|▌         | 5/100 [00:05<01:52,  1.19s/it]"
     ]
    },
    {
     "name": "stdout",
     "output_type": "stream",
     "text": [
      "35 47\n"
     ]
    },
    {
     "name": "stderr",
     "output_type": "stream",
     "text": [
      "  6%|▌         | 6/100 [00:06<01:58,  1.26s/it]"
     ]
    },
    {
     "name": "stdout",
     "output_type": "stream",
     "text": [
      "35 47\n"
     ]
    },
    {
     "name": "stderr",
     "output_type": "stream",
     "text": [
      "  7%|▋         | 7/100 [00:07<01:41,  1.09s/it]"
     ]
    },
    {
     "name": "stdout",
     "output_type": "stream",
     "text": [
      "35 47\n"
     ]
    },
    {
     "name": "stderr",
     "output_type": "stream",
     "text": [
      "  8%|▊         | 8/100 [00:08<01:30,  1.01it/s]"
     ]
    },
    {
     "name": "stdout",
     "output_type": "stream",
     "text": [
      "35 47\n",
      "35 47\n"
     ]
    },
    {
     "name": "stderr",
     "output_type": "stream",
     "text": [
      " 11%|█         | 11/100 [00:08<00:41,  2.14it/s]"
     ]
    },
    {
     "name": "stdout",
     "output_type": "stream",
     "text": [
      "35 47\n",
      "35 47\n"
     ]
    },
    {
     "name": "stderr",
     "output_type": "stream",
     "text": [
      " 12%|█▏        | 12/100 [00:09<00:50,  1.75it/s]"
     ]
    },
    {
     "name": "stdout",
     "output_type": "stream",
     "text": [
      "35 47\n"
     ]
    },
    {
     "name": "stderr",
     "output_type": "stream",
     "text": [
      " 15%|█▌        | 15/100 [00:09<00:25,  3.27it/s]"
     ]
    },
    {
     "name": "stdout",
     "output_type": "stream",
     "text": [
      "35 47\n",
      "35 47\n",
      "35 47\n",
      "35 47\n"
     ]
    },
    {
     "name": "stderr",
     "output_type": "stream",
     "text": [
      " 19%|█▉        | 19/100 [00:09<00:13,  6.03it/s]"
     ]
    },
    {
     "name": "stdout",
     "output_type": "stream",
     "text": [
      "35 47\n",
      "35 47\n",
      "35 47\n"
     ]
    },
    {
     "name": "stderr",
     "output_type": "stream",
     "text": [
      " 23%|██▎       | 23/100 [00:10<00:08,  9.03it/s]"
     ]
    },
    {
     "name": "stdout",
     "output_type": "stream",
     "text": [
      "35 47\n",
      "35 47\n",
      "35 47\n",
      "35 47\n"
     ]
    },
    {
     "name": "stderr",
     "output_type": "stream",
     "text": [
      " 25%|██▌       | 25/100 [00:10<00:06, 10.92it/s]"
     ]
    },
    {
     "name": "stdout",
     "output_type": "stream",
     "text": [
      "35 47\n",
      "35 47\n",
      "35 47\n",
      "35 47\n"
     ]
    },
    {
     "name": "stderr",
     "output_type": "stream",
     "text": [
      " 29%|██▉       | 29/100 [00:10<00:05, 13.39it/s]"
     ]
    },
    {
     "name": "stdout",
     "output_type": "stream",
     "text": [
      "35 47\n",
      "35 47\n",
      "35 47\n",
      "35 47\n",
      "35 47\n"
     ]
    },
    {
     "name": "stderr",
     "output_type": "stream",
     "text": [
      " 35%|███▌      | 35/100 [00:10<00:03, 17.48it/s]"
     ]
    },
    {
     "name": "stdout",
     "output_type": "stream",
     "text": [
      "35 47\n",
      "35 47\n",
      "35 47\n",
      "35 47\n"
     ]
    },
    {
     "name": "stderr",
     "output_type": "stream",
     "text": [
      " 39%|███▉      | 39/100 [00:11<00:03, 17.21it/s]"
     ]
    },
    {
     "name": "stdout",
     "output_type": "stream",
     "text": [
      "35 47\n",
      "35 47\n",
      "35 47\n",
      "35 47\n",
      "35 47\n"
     ]
    },
    {
     "name": "stderr",
     "output_type": "stream",
     "text": [
      " 45%|████▌     | 45/100 [00:11<00:02, 19.61it/s]"
     ]
    },
    {
     "name": "stdout",
     "output_type": "stream",
     "text": [
      "35 47\n",
      "35 47\n",
      "35 47\n",
      "35 47\n",
      "35 47\n"
     ]
    },
    {
     "name": "stderr",
     "output_type": "stream",
     "text": [
      " 48%|████▊     | 48/100 [00:11<00:02, 19.97it/s]"
     ]
    },
    {
     "name": "stdout",
     "output_type": "stream",
     "text": [
      "35 47\n",
      "35 47\n",
      "35 47\n",
      "35 47\n",
      "35 47\n"
     ]
    },
    {
     "name": "stderr",
     "output_type": "stream",
     "text": [
      " 54%|█████▍    | 54/100 [00:11<00:02, 21.41it/s]"
     ]
    },
    {
     "name": "stdout",
     "output_type": "stream",
     "text": [
      "35 47\n",
      "35 47\n",
      "35 47\n",
      "35 47\n",
      "35 47\n",
      "35 47\n"
     ]
    },
    {
     "name": "stderr",
     "output_type": "stream",
     "text": [
      " 60%|██████    | 60/100 [00:12<00:01, 22.68it/s]"
     ]
    },
    {
     "name": "stdout",
     "output_type": "stream",
     "text": [
      "35 47\n",
      "35 47\n",
      "35 47\n",
      "35 47\n",
      "35 47\n"
     ]
    },
    {
     "name": "stderr",
     "output_type": "stream",
     "text": [
      " 66%|██████▌   | 66/100 [00:12<00:01, 20.47it/s]"
     ]
    },
    {
     "name": "stdout",
     "output_type": "stream",
     "text": [
      "35 47\n",
      "35 47\n",
      "35 47\n",
      "35 47\n"
     ]
    },
    {
     "name": "stderr",
     "output_type": "stream",
     "text": [
      " 69%|██████▉   | 69/100 [00:12<00:01, 21.76it/s]"
     ]
    },
    {
     "name": "stdout",
     "output_type": "stream",
     "text": [
      "35 47\n",
      "35 47\n",
      "35 47\n",
      "35 47\n",
      "35 47\n"
     ]
    },
    {
     "name": "stderr",
     "output_type": "stream",
     "text": [
      " 75%|███████▌  | 75/100 [00:12<00:01, 21.49it/s]"
     ]
    },
    {
     "name": "stdout",
     "output_type": "stream",
     "text": [
      "35 47\n",
      "35 47\n",
      "35 47\n",
      "35 47\n",
      "35 47\n",
      "35 47\n"
     ]
    },
    {
     "name": "stderr",
     "output_type": "stream",
     "text": [
      " 81%|████████  | 81/100 [00:13<00:00, 22.38it/s]"
     ]
    },
    {
     "name": "stdout",
     "output_type": "stream",
     "text": [
      "35 47\n",
      "35 47\n",
      "35 47\n",
      "35 47\n",
      "35 47\n"
     ]
    },
    {
     "name": "stderr",
     "output_type": "stream",
     "text": [
      " 87%|████████▋ | 87/100 [00:13<00:00, 22.34it/s]"
     ]
    },
    {
     "name": "stdout",
     "output_type": "stream",
     "text": [
      "35 47\n",
      "35 47\n",
      "35 47\n",
      "35 47\n",
      "35 47\n"
     ]
    },
    {
     "name": "stderr",
     "output_type": "stream",
     "text": [
      " 90%|█████████ | 90/100 [00:13<00:00, 22.74it/s]"
     ]
    },
    {
     "name": "stdout",
     "output_type": "stream",
     "text": [
      "35 47\n",
      "35 47\n",
      "35 47\n",
      "35 47\n",
      "35 47\n"
     ]
    },
    {
     "name": "stderr",
     "output_type": "stream",
     "text": [
      " 95%|█████████▌| 95/100 [00:13<00:00,  6.95it/s]"
     ]
    },
    {
     "name": "stdout",
     "output_type": "stream",
     "text": [
      "35 47\n",
      "35 47\n",
      "35 47\n",
      "35 47\n",
      "Environment solved in episode 95\n"
     ]
    },
    {
     "name": "stderr",
     "output_type": "stream",
     "text": [
      "\n"
     ]
    }
   ],
   "source": [
    "# Track scores\n",
    "scores = []\n",
    "recent_scores = deque(maxlen=5)\n",
    "\n",
    "# Training loop for number of defined episodes\n",
    "for episode in tqdm(range(NUM_EPISODES)):\n",
    "    state = env.reset()[0]\n",
    "    score = 0\n",
    "\n",
    "    while True:\n",
    "        # Convert state to tensor for input into the networks\n",
    "        state_tensor = torch.nn.functional.one_hot(torch.tensor(state), env.observation_space.n).float().to(DEVICE)\n",
    "        \n",
    "        # Agent selects action\n",
    "        action_probs = actor_policy(state_tensor)\n",
    "        # Categorical distribution is used to sample the action based on the probabilities\n",
    "        m = Categorical(action_probs)\n",
    "        action = m.sample()\n",
    "                \n",
    "        # Take action in the environment by using the step function defined in the gymnasium environment\n",
    "        next_state, reward, done, _, _ = env.step(action.item())\n",
    "        score += reward\n",
    "\n",
    "        # Convert to tensors for updating state values\n",
    "        next_state_tensor = torch.nn.functional.one_hot(torch.tensor(next_state), env.observation_space.n).float().to(DEVICE)\n",
    "        reward_tensor = torch.tensor(reward, dtype=torch.float32).to(DEVICE)\n",
    "\n",
    "        # Critic calculates value using the critic NN\n",
    "        value = critic_value(state_tensor)\n",
    "        next_value = critic_value(next_state_tensor) if not done else torch.tensor([0]).to(DEVICE)\n",
    "\n",
    "        # Calculate TD error to be used in calculating the loss values\n",
    "        td_target = reward_tensor + DISCOUNT_FACTOR * next_value\n",
    "        td_error = td_target - value\n",
    "\n",
    "        # Actor loss\n",
    "        actor_loss = -m.log_prob(action) * td_error.detach()\n",
    "\n",
    "        # Critic loss (MSE)\n",
    "        critic_loss = F.mse_loss(value, td_target.detach())\n",
    "\n",
    "        # Backpropagation\n",
    "        actor_optimizer.zero_grad()\n",
    "        critic_optimizer.zero_grad()\n",
    "        actor_loss.backward()\n",
    "        critic_loss.backward()\n",
    "        actor_optimizer.step()\n",
    "        critic_optimizer.step()\n",
    "\n",
    "        # this was added to end the loop if the episode gets too long or the agent goes off the cliff 10 times\n",
    "        # we played with this value and found that 1000 was enough for the agent to learn the cliff is not the way to go\n",
    "        # added print step to show why the episode ended\n",
    "        if score < -MAX_STEPS:\n",
    "            print(\"Score too low\")\n",
    "            break\n",
    "\n",
    "        # Break if episode is done and print the state and next state, this will show the agent reached the terminal state (47)\n",
    "        if done:\n",
    "            print(state, next_state)\n",
    "            break\n",
    "\n",
    "        # Update state and continue\n",
    "        state = next_state\n",
    "\n",
    "    # Append episode score for graphing\n",
    "    scores.append(score)\n",
    "    recent_scores.append(score)\n",
    "\n",
    "    # Early stopping if solved score goal is met\n",
    "    if np.mean(recent_scores) >= SOLVED_SCORE:\n",
    "        print(f\"Environment solved in episode {episode}\")\n",
    "        break\n",
    "env.close()\n"
   ]
  },
  {
   "cell_type": "code",
   "execution_count": 16,
   "id": "77306621-99a3-48f8-889b-283b65f6d7de",
   "metadata": {},
   "outputs": [
    {
     "data": {
      "image/png": "[encoded data removed]",
      "text/plain": [
       "<Figure size 640x480 with 1 Axes>"
      ]
     },
     "metadata": {},
     "output_type": "display_data"
    },
    {
     "name": "stdout",
     "output_type": "stream",
     "text": [
      "Total score: -13\n"
     ]
    }
   ],
   "source": [
    "# Plot scores\n",
    "import matplotlib.pyplot as plt\n",
    "plt.plot(scores)\n",
    "plt.xlabel(\"Episode\")\n",
    "plt.ylabel(\"Score\")\n",
    "plt.title(\"Training Scores - Actor-Critic.  Best score was: \" + str(np.max(scores)))\n",
    "plt.show()\n",
    "print(\"Total score:\", score)"
   ]
  },
  {
   "cell_type": "code",
   "execution_count": 18,
   "id": "5905c21a",
   "metadata": {},
   "outputs": [
    {
     "name": "stdout",
     "output_type": "stream",
     "text": [
      "Total score: -13\n"
     ]
    },
    {
     "ename": "",
     "evalue": "",
     "output_type": "error",
     "traceback": [
      "\u001b[1;31mThe Kernel crashed while executing code in the the current cell or a previous cell. Please review the code in the cell(s) to identify a possible cause of the failure. Click <a href='https://aka.ms/vscodeJupyterKernelCrash'>here</a> for more info. View Jupyter <a href='command:jupyter.viewOutput'>log</a> for further details."
     ]
    }
   ],
   "source": [
    "# Play Cliff Walking with trained model\n",
    "# Initialize Cliff Walking environment\n",
    "env = gym.make(\"CliffWalking-v0\",render_mode=\"human\")\n",
    "state, _ = env.reset()\n",
    "done = False\n",
    "score = 0\n",
    "while not done:\n",
    "    state_tensor = torch.nn.functional.one_hot(torch.tensor(state), env.observation_space.n).float().to(DEVICE)\n",
    "    action_probs = actor_policy(state_tensor)\n",
    "    action = torch.argmax(action_probs).item()\n",
    "    next_state, reward, done, _ = env.step(action)[:4]\n",
    "    score += reward\n",
    "    # this was added to end the loop if the episode gets too long or the agent goes off the cliff 10 times\n",
    "    if score < -MAX_STEPS:\n",
    "        print(\"Score too low\")\n",
    "        break\n",
    "    state = next_state\n",
    "    env.render()\n",
    "\n",
    "env.close()\n",
    "print(\"Total score:\", score)"
   ]
  },
  {
   "cell_type": "code",
   "execution_count": null,
   "id": "d1faa870",
   "metadata": {},
   "outputs": [],
   "source": []
  },
  {
   "cell_type": "code",
   "execution_count": null,
   "id": "b1250844",
   "metadata": {},
   "outputs": [],
   "source": []
  },
  {
   "cell_type": "code",
   "execution_count": null,
   "id": "f13dbc75",
   "metadata": {},
   "outputs": [],
   "source": []
  }
 ],
 "metadata": {
  "kernelspec": {
   "display_name": "Python 3 (ipykernel)",
   "language": "python",
   "name": "python3"
  },
  "language_info": {
   "codemirror_mode": {
    "name": "ipython",
    "version": 3
   },
   "file_extension": ".py",
   "mimetype": "text/x-python",
   "name": "python",
   "nbconvert_exporter": "python",
   "pygments_lexer": "ipython3",
   "version": "3.12.1"
  }
 },
 "nbformat": 4,
 "nbformat_minor": 5
}
