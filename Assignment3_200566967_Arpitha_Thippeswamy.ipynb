{
 "cells": [
  {
   "cell_type": "code",
   "execution_count": 6,
   "id": "f8ec03e8",
   "metadata": {},
   "outputs": [],
   "source": [
    "import torch\n",
    "import torch.nn as nn\n",
    "import torch.nn.functional as F\n",
    "import torch.optim as optim\n",
    "from torch.distributions import Categorical\n",
    "from tqdm import tqdm\n",
    "\n",
    "import gymnasium as gym\n",
    "import numpy as np\n",
    "from collections import deque\n",
    "\n",
    "# Initialize Cliff Walking environment\n",
    "env = gym.make(\"CliffWalking-v0\")#,render_mode=\"human\")"
   ]
  },
  {
   "cell_type": "code",
   "execution_count": 7,
   "id": "ad33392e",
   "metadata": {},
   "outputs": [],
   "source": [
    "# Constants\n",
    "DISCOUNT_FACTOR = 0.99\n",
    "NUM_EPISODES = 20\n",
    "MAX_STEPS = 1000\n",
    "SOLVED_SCORE = -13  \n",
    "DEVICE = \"cuda\" if torch.cuda.is_available() else \"cpu\""
   ]
  },
  {
   "cell_type": "code",
   "execution_count": 8,
   "id": "9e404725",
   "metadata": {},
   "outputs": [],
   "source": [
    "# Actor Network (Policy Network)\n",
    "class Actor(nn.Module):\n",
    "    def __init__(self, state_space, action_space):\n",
    "        super(Actor, self).__init__()\n",
    "        self.fc1 = nn.Linear(state_space, 128)\n",
    "        self.fc2 = nn.Linear(128, action_space)\n",
    "\n",
    "    def forward(self, x):\n",
    "        x = F.relu(self.fc1(x))\n",
    "        x = F.softmax(self.fc2(x), dim=-1)\n",
    "        return x\n",
    "\n",
    "# Critic Network (Value Network)\n",
    "class Critic(nn.Module):\n",
    "    def __init__(self, state_space):\n",
    "        super(Critic, self).__init__()\n",
    "        self.fc1 = nn.Linear(state_space, 128)\n",
    "        self.fc2 = nn.Linear(128, 1)\n",
    "\n",
    "    def forward(self, x):\n",
    "        x = F.relu(self.fc1(x))\n",
    "        x = self.fc2(x)\n",
    "        return x"
   ]
  },
  {
   "cell_type": "code",
   "execution_count": 9,
   "id": "251f5b42",
   "metadata": {},
   "outputs": [],
   "source": [
    "# Correctly initialize state from environment\n",
    "state = env.reset()[0]\n",
    "\n",
    "# Initialize networks\n",
    "actor = Actor(env.observation_space.n, env.action_space.n).to(DEVICE)\n",
    "critic = Critic(env.observation_space.n).to(DEVICE)\n",
    "\n",
    "# Initialize optimizers\n",
    "actor_optimizer = optim.Adam(actor.parameters(), lr=0.01)\n",
    "critic_optimizer = optim.Adam(critic.parameters(), lr=0.01)"
   ]
  },
  {
   "cell_type": "code",
   "execution_count": 10,
   "id": "55fbb2a2",
   "metadata": {},
   "outputs": [
    {
     "name": "stderr",
     "output_type": "stream",
     "text": [
      "  5%|▌         | 1/20 [00:23<07:27, 23.53s/it]"
     ]
    },
    {
     "name": "stdout",
     "output_type": "stream",
     "text": [
      "Score too low\n"
     ]
    },
    {
     "name": "stderr",
     "output_type": "stream",
     "text": [
      " 10%|█         | 2/20 [00:48<07:19, 24.41s/it]"
     ]
    },
    {
     "name": "stdout",
     "output_type": "stream",
     "text": [
      "Score too low\n"
     ]
    },
    {
     "name": "stderr",
     "output_type": "stream",
     "text": [
      " 15%|█▌        | 3/20 [01:22<08:10, 28.87s/it]"
     ]
    },
    {
     "name": "stdout",
     "output_type": "stream",
     "text": [
      "Score too low\n"
     ]
    },
    {
     "name": "stderr",
     "output_type": "stream",
     "text": [
      " 20%|██        | 4/20 [01:47<07:15, 27.23s/it]"
     ]
    },
    {
     "name": "stdout",
     "output_type": "stream",
     "text": [
      "Score too low\n"
     ]
    },
    {
     "name": "stderr",
     "output_type": "stream",
     "text": [
      " 25%|██▌       | 5/20 [02:12<06:36, 26.43s/it]"
     ]
    },
    {
     "name": "stdout",
     "output_type": "stream",
     "text": [
      "Score too low\n"
     ]
    },
    {
     "name": "stderr",
     "output_type": "stream",
     "text": [
      " 30%|███       | 6/20 [02:37<06:01, 25.83s/it]"
     ]
    },
    {
     "name": "stdout",
     "output_type": "stream",
     "text": [
      "Score too low\n"
     ]
    },
    {
     "name": "stderr",
     "output_type": "stream",
     "text": [
      " 35%|███▌      | 7/20 [03:01<05:30, 25.41s/it]"
     ]
    },
    {
     "name": "stdout",
     "output_type": "stream",
     "text": [
      "Score too low\n"
     ]
    },
    {
     "ename": "",
     "evalue": "",
     "output_type": "error",
     "traceback": [
      "\u001b[1;31mThe Kernel crashed while executing code in the the current cell or a previous cell. Please review the code in the cell(s) to identify a possible cause of the failure. Click <a href='https://aka.ms/vscodeJupyterKernelCrash'>here</a> for more info. View Jupyter <a href='command:jupyter.viewOutput'>log</a> for further details."
     ]
    }
   ],
   "source": [
    "# Track scores\n",
    "scores = []\n",
    "recent_scores = deque(maxlen=100)\n",
    "\n",
    "# Training loop\n",
    "for episode in tqdm(range(NUM_EPISODES)):\n",
    "    state = env.reset()[0]\n",
    "    score = 0\n",
    "\n",
    "    while True:\n",
    "        state_tensor = torch.nn.functional.one_hot(torch.tensor(state), env.observation_space.n).float().to(DEVICE)\n",
    "        \n",
    "        # Actor selects action\n",
    "        action_probs = actor(state_tensor)\n",
    "        m = Categorical(action_probs)\n",
    "        action = m.sample()\n",
    "                \n",
    "        # Take action in the environment\n",
    "        next_state, reward, done, _ = env.step(action.item())[:4]\n",
    "        score += reward\n",
    "\n",
    "        # Convert to tensors\n",
    "        next_state_tensor = torch.nn.functional.one_hot(torch.tensor(next_state), env.observation_space.n).float().to(DEVICE)\n",
    "        reward_tensor = torch.tensor(reward, dtype=torch.float32).to(DEVICE)\n",
    "\n",
    "        # Critic calculates value\n",
    "        value = critic(state_tensor)\n",
    "        next_value = critic(next_state_tensor) if not done else torch.tensor([0]).to(DEVICE)\n",
    "\n",
    "        # Calculate TD error\n",
    "        td_target = reward_tensor + DISCOUNT_FACTOR * next_value\n",
    "        td_error = td_target - value\n",
    "\n",
    "        # Actor loss\n",
    "        actor_loss = -m.log_prob(action) * td_error.detach()\n",
    "\n",
    "        # Critic loss (MSE)\n",
    "        critic_loss = F.mse_loss(value, td_target.detach())\n",
    "\n",
    "        # Backpropagation\n",
    "        actor_optimizer.zero_grad()\n",
    "        critic_optimizer.zero_grad()\n",
    "        actor_loss.backward()\n",
    "        critic_loss.backward()\n",
    "        actor_optimizer.step()\n",
    "        critic_optimizer.step()\n",
    "\n",
    "        if score < -MAX_STEPS:\n",
    "            print(\"Score too low\")\n",
    "            break\n",
    "\n",
    "        if done:\n",
    "            print(state, next_state)\n",
    "            break\n",
    "\n",
    "        state = next_state\n",
    "\n",
    "    # Append episode score\n",
    "    scores.append(score)\n",
    "    recent_scores.append(score)\n",
    "\n",
    "    # Early stopping if solved score goal is met\n",
    "    if np.mean(recent_scores) >= SOLVED_SCORE:\n",
    "        print(f\"Environment solved in episode {episode}\")\n",
    "        break\n",
    "env.close()\n"
   ]
  },
  {
   "cell_type": "code",
   "execution_count": null,
   "id": "77306621-99a3-48f8-889b-283b65f6d7de",
   "metadata": {},
   "outputs": [
    {
     "data": {
      "image/png": "[encoded data removed]",
      "text/plain": [
       "<Figure size 640x480 with 1 Axes>"
      ]
     },
     "metadata": {},
     "output_type": "display_data"
    },
    {
     "name": "stdout",
     "output_type": "stream",
     "text": [
      "Total score: -17\n"
     ]
    }
   ],
   "source": [
    "# Plot scores\n",
    "import matplotlib.pyplot as plt\n",
    "plt.plot(scores)\n",
    "plt.xlabel(\"Episode\")\n",
    "plt.ylabel(\"Score\")\n",
    "plt.title(\"Training Scores\")\n",
    "plt.show()\n",
    "print(\"Total score:\", score)"
   ]
  },
  {
   "cell_type": "code",
   "execution_count": null,
   "id": "5905c21a",
   "metadata": {},
   "outputs": [
    {
     "ename": "",
     "evalue": "",
     "output_type": "error",
     "traceback": [
      "\u001b[1;31mThe Kernel crashed while executing code in the the current cell or a previous cell. Please review the code in the cell(s) to identify a possible cause of the failure. Click <a href='https://aka.ms/vscodeJupyterKernelCrash'>here</a> for more info. View Jupyter <a href='command:jupyter.viewOutput'>log</a> for further details."
     ]
    }
   ],
   "source": [
    "# Play Cliff Walking with trained model\n",
    "# Initialize Cliff Walking environment\n",
    "env = gym.make(\"CliffWalking-v0\",render_mode=\"human\")\n",
    "state, _ = env.reset()\n",
    "done = False\n",
    "score = 0\n",
    "while not done:\n",
    "    state_tensor = torch.nn.functional.one_hot(torch.tensor(state), env.observation_space.n).float().to(DEVICE)\n",
    "    action_probs = actor(state_tensor)\n",
    "    action = torch.argmax(action_probs).item()\n",
    "    next_state, reward, done, _ = env.step(action)[:4]\n",
    "    score += reward\n",
    "    env.render()\n",
    "\n",
    "env.close()\n",
    "print(\"Total score:\", score)"
   ]
  },
  {
   "cell_type": "code",
   "execution_count": null,
   "id": "d1faa870",
   "metadata": {},
   "outputs": [],
   "source": []
  },
  {
   "cell_type": "code",
   "execution_count": null,
   "id": "b1250844",
   "metadata": {},
   "outputs": [],
   "source": []
  },
  {
   "cell_type": "code",
   "execution_count": null,
   "id": "f13dbc75",
   "metadata": {},
   "outputs": [],
   "source": []
  }
 ],
 "metadata": {
  "kernelspec": {
   "display_name": "Python 3 (ipykernel)",
   "language": "python",
   "name": "python3"
  },
  "language_info": {
   "codemirror_mode": {
    "name": "ipython",
    "version": 3
   },
   "file_extension": ".py",
   "mimetype": "text/x-python",
   "name": "python",
   "nbconvert_exporter": "python",
   "pygments_lexer": "ipython3",
   "version": "3.12.1"
  }
 },
 "nbformat": 4,
 "nbformat_minor": 5
}
