{
 "cells": [
  {
   "cell_type": "code",
   "execution_count": 11,
   "id": "48171278",
   "metadata": {},
   "outputs": [],
   "source": [
    "import torch\n",
    "import torch.nn as nn\n",
    "import torch.nn.functional as F\n",
    "import torch.optim as optim\n",
    "from torch.distributions import Categorical\n",
    "from tqdm import tqdm\n",
    "\n",
    "import gym\n",
    "import numpy as np\n",
    "from collections import deque\n",
    "\n",
    "# Create the environment only once\n",
    "env = gym.make(\"CliffWalking-v0\")#, render_mode=\"human\")  \n",
    "\n",
    "# Constants\n",
    "DISCOUNT_FACTOR = 0.99\n",
    "NUM_EPISODES = 100\n",
    "MAX_STEPS = 150\n",
    "SOLVED_SCORE = 195  # Adjust as needed\n",
    "DEVICE = \"cuda\" if torch.cuda.is_available() else \"cpu\"\n",
    "\n",
    "# Neural Network for Policy\n",
    "class PolicyNetwork(nn.Module):\n",
    "    def __init__(self, state_space, action_space):\n",
    "        super(PolicyNetwork, self).__init__()\n",
    "        self.input_layer = nn.Linear(state_space, 128)\n",
    "        self.output_layer = nn.Linear(128, action_space)\n",
    "\n",
    "    def forward(self, x):\n",
    "        # Ensure correct reshaping\n",
    "        #######\n",
    "        #######\n",
    "        x = x.view(x.size(0), -1)  # Reshape to (batch_size, state_space)\n",
    "        x = F.relu(self.input_layer(x))\n",
    "        action_scores = self.output_layer(x)\n",
    "        return F.softmax(action_scores, dim=1)\n",
    "\n",
    "# Neural Network for State Value\n",
    "class StateValueNetwork(nn.Module):\n",
    "    def __init__(self, state_space):\n",
    "        super(StateValueNetwork, self).__init__()\n",
    "        self.input_layer = nn.Linear(state_space, 128)\n",
    "        self.output_layer = nn.Linear(128, 1)\n",
    "\n",
    "    def forward(self, x):\n",
    "        x = F.relu(self.input_layer(x))\n",
    "        return self.output_layer(x)\n",
    "\n",
    "# ## Function to select actions\n",
    "# def select_action(policy_network, state):\n",
    "#     if not isinstance(state, int):\n",
    "#         raise ValueError(\"Invalid state received\")  # Error handling\n",
    "#     state = torch.nn.functional.one_hot(torch.tensor(state), 48).float().unsqueeze(0).to(DEVICE) # Wrap in a NumPy array if not already\n",
    "#     print(f\"State before reshape: {state}\")\n",
    "#     # Reshape to (1, state_space)\n",
    "#     #state = state.reshape(1, 48)\n",
    "#     #state = torch.from_numpy(state).float().unsqueeze(0).to(DEVICE)\n",
    "#     action_probs = policy_network(state)\n",
    "#     m = Categorical(action_probs)\n",
    "#     action = m.sample()\n",
    "#     return action.item(), m.log_prob(action)\n",
    "def select_action(policy_network, state):\n",
    "    state_tensor = torch.nn.functional.one_hot(torch.tensor(state), num_classes=48).float().to(DEVICE).unsqueeze(0)\n",
    "    action_probs = policy_network(state_tensor)\n",
    "    m = Categorical(action_probs)\n",
    "    action = m.sample()\n",
    "    return action.item(), m.log_prob(action)"
   ]
  },
  {
   "cell_type": "code",
   "execution_count": 12,
   "id": "ac7c433b",
   "metadata": {},
   "outputs": [],
   "source": [
    "# Correctly initialize state from environment\n",
    "state_tuple = env.reset()  # Get the full initial state tuple\n",
    "state = state_tuple[0]  # Access the first element (state)\n",
    "\n",
    "# Initialize Cliff Walking environment\n",
    "env = gym.make(\"CliffWalking-v0\")#, render_mode=\"rgb_array\")\n",
    "state_space = env.observation_space.n  # Verify this value is 48\n",
    "action_space = env.action_space.n\n",
    "\n",
    "# Initialize networks\n",
    "policy_network = PolicyNetwork(state_space, action_space).to(DEVICE)\n",
    "state_value_network = StateValueNetwork(state_space).to(DEVICE)\n",
    "\n",
    "# Initialize optimizers\n",
    "policy_optimizer = optim.Adam(policy_network.parameters(), lr=0.01)\n",
    "state_value_optimizer = optim.Adam(state_value_network.parameters(), lr=0.01)\n",
    "\n"
   ]
  },
  {
   "cell_type": "code",
   "execution_count": 13,
   "id": "23e240bf",
   "metadata": {},
   "outputs": [
    {
     "name": "stdout",
     "output_type": "stream",
     "text": [
      "48\n"
     ]
    }
   ],
   "source": [
    "env = gym.make(\"CliffWalking-v0\")\n",
    "state_space = env.observation_space.n\n",
    "print(state_space)  # Added to print the value\n"
   ]
  },
  {
   "cell_type": "code",
   "execution_count": 14,
   "id": "57e1cc4c",
   "metadata": {},
   "outputs": [
    {
     "name": "stderr",
     "output_type": "stream",
     "text": [
      "100%|██████████| 100/100 [00:37<00:00,  2.67it/s]\n"
     ]
    }
   ],
   "source": [
    "# Track scores\n",
    "scores = []\n",
    "recent_scores = deque(maxlen=100)\n",
    "\n",
    "# Training loop\n",
    "for episode in tqdm(range(NUM_EPISODES)):\n",
    "    ###maybe this should be just state rather than state_tuple\n",
    "    state = env.reset()[0]  # Reset environment returns a tuple\n",
    "    score=0\n",
    "    I = 1  # Initialize discount factor\n",
    "    \n",
    "    for step in range(MAX_STEPS):\n",
    "        action, log_prob = select_action(policy_network, state)\n",
    "        next_state, reward, done, _ = env.step(action)[:4]\n",
    "        score += reward\n",
    "\n",
    "        #print(f\"episode: {episode}, Step: {step}, State: {state}, Action: {action}, Reward: {reward}, New State: {next_state}, Done: {done}, Score: {score}\")\n",
    "\n",
    "\n",
    "        # Convert state, next_state, and reward to PyTorch tensors\n",
    "        state_tensor = torch.nn.functional.one_hot(torch.tensor(state), 48).float().unsqueeze(0).to(DEVICE) \n",
    "        next_state_tensor = torch.nn.functional.one_hot(torch.tensor(next_state), 48).float().unsqueeze(0).to(DEVICE)\n",
    "\n",
    "        reward_tensor = torch.tensor(reward).float()\n",
    "\n",
    "        # Calculate state value and next state value\n",
    "        state_value = state_value_network(state_tensor)\n",
    "        next_state_value = state_value_network(next_state_tensor)\n",
    "        \n",
    "        #NEW - added because cliffwalking env does not return done as True when agent falls off cliff\n",
    "        if reward == -100:\n",
    "            done = True\n",
    "        \n",
    "        #NEW - check if agent has reached the end of the grid\n",
    "        if next_state == 47:\n",
    "            done = True\n",
    "        \n",
    "        #if terminal state, next state val is 0\n",
    "        if done:\n",
    "            next_state_val = torch.tensor([0]).float().unsqueeze(0).to(DEVICE)\n",
    "\n",
    "        # Calculate advantage\n",
    "        advantage = reward_tensor + DISCOUNT_FACTOR * next_state_value - state_value\n",
    "\n",
    "        # Calculate policy loss and value loss\n",
    "        policy_loss = -log_prob * advantage.detach()\n",
    "        value_loss = F.smooth_l1_loss(state_value, reward_tensor + DISCOUNT_FACTOR * next_state_value)\n",
    "\n",
    "        # Backpropagate\n",
    "        policy_optimizer.zero_grad()\n",
    "        state_value_optimizer.zero_grad()\n",
    "        policy_loss.backward()\n",
    "        value_loss.backward()\n",
    "        policy_optimizer.step()\n",
    "        state_value_optimizer.step()\n",
    "\n",
    "        if done:\n",
    "            break\n",
    "\n",
    "        # Move to the next state\n",
    "        state = next_state\n",
    "        I *= DISCOUNT_FACTOR  # Update discount factor\n",
    "\n",
    "    # Append episode score\n",
    "    scores.append(score)\n",
    "    recent_scores.append(score)\n",
    "\n",
    "    # Early stopping if solved score goal is met\n",
    "    if np.mean(recent_scores) >= SOLVED_SCORE:\n",
    "        print(f\"Environment solved in episode {episode}\")\n",
    "        break\n"
   ]
  },
  {
   "cell_type": "code",
   "execution_count": 15,
   "id": "676a6116",
   "metadata": {},
   "outputs": [
    {
     "data": {
      "image/png": "[encoded data removed]",
      "text/plain": [
       "<Figure size 640x480 with 1 Axes>"
      ]
     },
     "metadata": {},
     "output_type": "display_data"
    }
   ],
   "source": [
    "# Plot scores\n",
    "import matplotlib.pyplot as plt\n",
    "plt.plot(scores)\n",
    "plt.xlabel(\"Episode\")\n",
    "plt.ylabel(\"Score\")\n",
    "plt.title(\"Training Scores\")\n",
    "plt.show()\n",
    "\n",
    "# # Play Cliff Walking with trained model\n",
    "# state = env.reset()\n",
    "# done = False\n",
    "# score = 0\n",
    "# while not done:\n",
    "#     env.render()\n",
    "#     action, _ = select_action(policy_network, state)\n",
    "#     next_state, reward, done, _ = env.step(action)\n",
    "#     score += reward\n",
    "#     state = next_state\n",
    "# env.close()\n",
    "# print(\"Total score:\", score)\n"
   ]
  },
  {
   "cell_type": "code",
   "execution_count": null,
   "id": "f343226f",
   "metadata": {},
   "outputs": [],
   "source": []
  },
  {
   "cell_type": "code",
   "execution_count": null,
   "id": "f7f523ec",
   "metadata": {},
   "outputs": [],
   "source": []
  },
  {
   "cell_type": "code",
   "execution_count": null,
   "id": "c3b88ea0",
   "metadata": {},
   "outputs": [],
   "source": []
  }
 ],
 "metadata": {
  "kernelspec": {
   "display_name": "Python 3 (ipykernel)",
   "language": "python",
   "name": "python3"
  },
  "language_info": {
   "codemirror_mode": {
    "name": "ipython",
    "version": 3
   },
   "file_extension": ".py",
   "mimetype": "text/x-python",
   "name": "python",
   "nbconvert_exporter": "python",
   "pygments_lexer": "ipython3",
   "version": "3.12.1"
  }
 },
 "nbformat": 4,
 "nbformat_minor": 5
}
